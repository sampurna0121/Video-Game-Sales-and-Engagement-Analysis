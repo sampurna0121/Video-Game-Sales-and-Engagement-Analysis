{
 "cells": [
  {
   "cell_type": "code",
   "execution_count": 41,
   "id": "b8ae0b98-b86d-4175-9c74-830a2021e14e",
   "metadata": {},
   "outputs": [
    {
     "name": "stdout",
     "output_type": "stream",
     "text": [
      "Games Dataset:\n",
      "<class 'pandas.core.frame.DataFrame'>\n",
      "RangeIndex: 1512 entries, 0 to 1511\n",
      "Data columns (total 14 columns):\n",
      " #   Column             Non-Null Count  Dtype  \n",
      "---  ------             --------------  -----  \n",
      " 0   Unnamed: 0         1512 non-null   int64  \n",
      " 1   Title              1512 non-null   object \n",
      " 2   Release Date       1512 non-null   object \n",
      " 3   Team               1511 non-null   object \n",
      " 4   Rating             1499 non-null   float64\n",
      " 5   Times Listed       1512 non-null   object \n",
      " 6   Number of Reviews  1512 non-null   object \n",
      " 7   Genres             1512 non-null   object \n",
      " 8   Summary            1511 non-null   object \n",
      " 9   Reviews            1512 non-null   object \n",
      " 10  Plays              1512 non-null   object \n",
      " 11  Playing            1512 non-null   object \n",
      " 12  Backlogs           1512 non-null   object \n",
      " 13  Wishlist           1512 non-null   object \n",
      "dtypes: float64(1), int64(1), object(12)\n",
      "memory usage: 165.5+ KB\n",
      "None \n",
      "\n",
      "Sales Dataset:\n",
      "<class 'pandas.core.frame.DataFrame'>\n",
      "RangeIndex: 16598 entries, 0 to 16597\n",
      "Data columns (total 11 columns):\n",
      " #   Column        Non-Null Count  Dtype  \n",
      "---  ------        --------------  -----  \n",
      " 0   Rank          16598 non-null  int64  \n",
      " 1   Name          16598 non-null  object \n",
      " 2   Platform      16598 non-null  object \n",
      " 3   Year          16327 non-null  float64\n",
      " 4   Genre         16598 non-null  object \n",
      " 5   Publisher     16540 non-null  object \n",
      " 6   NA_Sales      16598 non-null  float64\n",
      " 7   EU_Sales      16598 non-null  float64\n",
      " 8   JP_Sales      16598 non-null  float64\n",
      " 9   Other_Sales   16598 non-null  float64\n",
      " 10  Global_Sales  16598 non-null  float64\n",
      "dtypes: float64(6), int64(1), object(4)\n",
      "memory usage: 1.4+ MB\n",
      "None\n"
     ]
    }
   ],
   "source": [
    "import pandas as pd\n",
    "\n",
    "# Load datasets\n",
    "games_df = pd.read_csv(\"C:/Users/purni/Desktop/videogames_project/games.csv\")\n",
    "sales_df = pd.read_csv(\"C:/Users/purni/Desktop/videogames_project/vgsales.csv\")\n",
    "\n",
    "# Display basic info\n",
    "print(\"Games Dataset:\")\n",
    "print(games_df.info(), \"\\n\")\n",
    "\n",
    "print(\"Sales Dataset:\")\n",
    "print(sales_df.info())\n"
   ]
  },
  {
   "cell_type": "code",
   "execution_count": 43,
   "id": "38a1587d-6d94-4519-9df5-775ba9ac26c4",
   "metadata": {},
   "outputs": [],
   "source": [
    "import numpy as np\n",
    "\n",
    "def convert_to_number(x):\n",
    "    if isinstance(x, str):\n",
    "        x = x.replace(',', '').strip()\n",
    "        if x.endswith('K'):\n",
    "            return float(x[:-1]) * 1000\n",
    "        elif x.endswith('M'):\n",
    "            return float(x[:-1]) * 1000000\n",
    "        else:\n",
    "            try:\n",
    "                return float(x)\n",
    "            except:\n",
    "                return np.nan\n",
    "    return x\n",
    "\n",
    "# Columns to clean\n",
    "numeric_cols = ['Times Listed', 'Number of Reviews', 'Plays', 'Playing', 'Backlogs', 'Wishlist']\n",
    "\n",
    "# Apply conversion\n",
    "for col in numeric_cols:\n",
    "    games_df[col] = games_df[col].apply(convert_to_number)\n"
   ]
  },
  {
   "cell_type": "code",
   "execution_count": 45,
   "id": "d7a29c72-e7b7-40cd-bc2e-a8f8a2db5cea",
   "metadata": {},
   "outputs": [
    {
     "name": "stdout",
     "output_type": "stream",
     "text": [
      "   Times Listed  Number of Reviews    Plays  Playing  Backlogs  Wishlist\n",
      "0        3900.0             3900.0  17000.0   3800.0    4600.0    4800.0\n",
      "1        2900.0             2900.0  21000.0   3200.0    6300.0    3600.0\n",
      "2        4300.0             4300.0  30000.0   2500.0    5000.0    2600.0\n",
      "3        3500.0             3500.0  28000.0    679.0    4900.0    1800.0\n",
      "4        3000.0             3000.0  21000.0   2400.0    8300.0    2300.0\n",
      "Times Listed         float64\n",
      "Number of Reviews    float64\n",
      "Plays                float64\n",
      "Playing              float64\n",
      "Backlogs             float64\n",
      "Wishlist             float64\n",
      "dtype: object\n"
     ]
    }
   ],
   "source": [
    "print(games_df[numeric_cols].head())\n",
    "print(games_df[numeric_cols].dtypes)\n"
   ]
  },
  {
   "cell_type": "code",
   "execution_count": 47,
   "id": "8d818690-4f05-4770-b7a0-49cfd44e5979",
   "metadata": {},
   "outputs": [],
   "source": [
    "# Convert Release Date to datetime, coerce errors\n",
    "games_df['Release Date'] = pd.to_datetime(games_df['Release Date'], errors='coerce')\n",
    "\n",
    "# Extract release year\n",
    "games_df['Release Year'] = games_df['Release Date'].dt.year\n"
   ]
  },
  {
   "cell_type": "code",
   "execution_count": 49,
   "id": "32aa942d-672e-4500-92b6-4a0baed7709e",
   "metadata": {},
   "outputs": [
    {
     "name": "stdout",
     "output_type": "stream",
     "text": [
      "                                     Title Release Date  Release Year\n",
      "0                               Elden Ring   2022-02-25        2022.0\n",
      "1                                    Hades   2019-12-10        2019.0\n",
      "2  The Legend of Zelda: Breath of the Wild   2017-03-03        2017.0\n",
      "3                                Undertale   2015-09-15        2015.0\n",
      "4                            Hollow Knight   2017-02-24        2017.0\n",
      "Release Year\n",
      "1980.0      1\n",
      "1982.0      1\n",
      "1985.0      1\n",
      "1986.0      4\n",
      "1987.0      3\n",
      "1988.0      5\n",
      "1989.0      5\n",
      "1990.0      6\n",
      "1991.0     11\n",
      "1992.0      6\n",
      "1993.0     12\n",
      "1994.0     11\n",
      "1995.0     12\n",
      "1996.0     15\n",
      "1997.0     18\n",
      "1998.0     16\n",
      "1999.0     25\n",
      "2000.0     15\n",
      "2001.0     30\n",
      "2002.0     22\n",
      "2003.0     26\n",
      "2004.0     37\n",
      "2005.0     41\n",
      "2006.0     32\n",
      "2007.0     50\n",
      "2008.0     44\n",
      "2009.0     40\n",
      "2010.0     58\n",
      "2011.0     50\n",
      "2012.0     60\n",
      "2013.0     68\n",
      "2014.0     59\n",
      "2015.0     73\n",
      "2016.0     75\n",
      "2017.0     70\n",
      "2018.0     77\n",
      "2019.0     87\n",
      "2020.0     74\n",
      "2021.0     97\n",
      "2022.0    132\n",
      "2023.0     38\n",
      "2024.0      1\n",
      "2025.0      1\n",
      "Name: count, dtype: int64\n"
     ]
    }
   ],
   "source": [
    "print(games_df[['Title', 'Release Date', 'Release Year']].head())\n",
    "print(games_df['Release Year'].value_counts().sort_index())\n"
   ]
  },
  {
   "cell_type": "code",
   "execution_count": 51,
   "id": "617f29b8-ab8b-4158-96cb-e1d138d28a5a",
   "metadata": {},
   "outputs": [
    {
     "name": "stdout",
     "output_type": "stream",
     "text": [
      "Unnamed: 0            0\n",
      "Title                 0\n",
      "Release Date          3\n",
      "Team                  1\n",
      "Rating               13\n",
      "Times Listed          0\n",
      "Number of Reviews     0\n",
      "Genres                0\n",
      "Summary               1\n",
      "Reviews               0\n",
      "Plays                 0\n",
      "Playing               0\n",
      "Backlogs              0\n",
      "Wishlist              0\n",
      "Release Year          3\n",
      "dtype: int64\n"
     ]
    }
   ],
   "source": [
    "print(games_df.isnull().sum())\n"
   ]
  },
  {
   "cell_type": "code",
   "execution_count": 53,
   "id": "79b1aaeb-38ab-4a65-b329-4c1f18055148",
   "metadata": {},
   "outputs": [],
   "source": [
    "games_df.dropna(inplace=True)\n",
    "games_df.reset_index(drop=True, inplace=True)\n"
   ]
  },
  {
   "cell_type": "code",
   "execution_count": 55,
   "id": "a77e4f55-4590-4457-ad7f-b69345406d15",
   "metadata": {},
   "outputs": [],
   "source": [
    "# Drop rows with missing Release Date (and hence Release Year)\n",
    "games_df = games_df.dropna(subset=['Release Date'])\n",
    "\n",
    "# Fill missing 'Team' and 'Summary' with placeholder\n",
    "games_df['Team'] = games_df['Team'].fillna('Unknown')\n",
    "games_df['Summary'] = games_df['Summary'].fillna('No summary available')\n",
    "\n",
    "# Fill missing Rating with mean (or median)\n",
    "games_df['Rating'] = games_df['Rating'].fillna(games_df['Rating'].mean())\n",
    "\n",
    "# Recalculate 'Release Year' from cleaned 'Release Date'\n",
    "games_df['Release Year'] = pd.to_datetime(games_df['Release Date'], errors='coerce').dt.year\n"
   ]
  },
  {
   "cell_type": "code",
   "execution_count": 57,
   "id": "9b49bf0d-dc3b-4b99-b0c0-21401be29bde",
   "metadata": {},
   "outputs": [
    {
     "data": {
      "text/plain": [
       "Unnamed: 0           0\n",
       "Title                0\n",
       "Release Date         0\n",
       "Team                 0\n",
       "Rating               0\n",
       "Times Listed         0\n",
       "Number of Reviews    0\n",
       "Genres               0\n",
       "Summary              0\n",
       "Reviews              0\n",
       "Plays                0\n",
       "Playing              0\n",
       "Backlogs             0\n",
       "Wishlist             0\n",
       "Release Year         0\n",
       "dtype: int64"
      ]
     },
     "execution_count": 57,
     "metadata": {},
     "output_type": "execute_result"
    }
   ],
   "source": [
    "games_df.isna().sum()\n"
   ]
  },
  {
   "cell_type": "code",
   "execution_count": 59,
   "id": "2b79e31a-a253-49c8-92d5-e8a478400934",
   "metadata": {},
   "outputs": [],
   "source": [
    "games_df.drop_duplicates(inplace=True)\n"
   ]
  },
  {
   "cell_type": "code",
   "execution_count": 61,
   "id": "c0aef44e-9a81-4351-a4d9-cbd02fb721f2",
   "metadata": {},
   "outputs": [],
   "source": [
    "games_df['Team'] = games_df['Team'].str.strip().str.title()\n",
    "games_df['Genres'] = games_df['Genres'].str.lower().str.strip()"
   ]
  },
  {
   "cell_type": "code",
   "execution_count": 63,
   "id": "e947765c-65db-4df0-8c76-afe0af265ca5",
   "metadata": {},
   "outputs": [],
   "source": [
    "from sqlalchemy import create_engine\n",
    "\n",
    "# Replace with your actual credentials\n",
    "db_name = 'videogames_db'\n",
    "db_user = 'postgres'\n",
    "db_password = 'PASSsql'\n",
    "db_host = 'localhost'\n",
    "db_port = '5432'\n",
    "\n",
    "engine = create_engine(f'postgresql://{db_user}:{db_password}@{db_host}:{db_port}/{db_name}')\n"
   ]
  },
  {
   "cell_type": "code",
   "execution_count": 64,
   "id": "8248c054-9c73-4767-b355-df0f93a3efb4",
   "metadata": {},
   "outputs": [],
   "source": [
    "games_metadata_df = games_df.copy()\n",
    "games_metadata_df['release_year'] = games_metadata_df['Release Date'].dt.year\n"
   ]
  },
  {
   "cell_type": "code",
   "execution_count": 67,
   "id": "1d228a06-eaf3-4a3d-b4c6-530317194207",
   "metadata": {},
   "outputs": [
    {
     "data": {
      "text/plain": [
       "496"
      ]
     },
     "execution_count": 67,
     "metadata": {},
     "output_type": "execute_result"
    }
   ],
   "source": [
    "games_df.to_sql('games', engine, if_exists='replace', index=False)\n",
    "sales_df.to_sql('vgsales', engine, if_exists='replace', index=False)\n",
    "games_metadata_df.to_sql('games_metadata', engine, if_exists='replace', index=False)\n"
   ]
  },
  {
   "cell_type": "code",
   "execution_count": 68,
   "id": "88f3000b-39cf-4f51-8eec-d50695e1dde4",
   "metadata": {},
   "outputs": [
    {
     "data": {
      "text/html": [
       "<div>\n",
       "<style scoped>\n",
       "    .dataframe tbody tr th:only-of-type {\n",
       "        vertical-align: middle;\n",
       "    }\n",
       "\n",
       "    .dataframe tbody tr th {\n",
       "        vertical-align: top;\n",
       "    }\n",
       "\n",
       "    .dataframe thead th {\n",
       "        text-align: right;\n",
       "    }\n",
       "</style>\n",
       "<table border=\"1\" class=\"dataframe\">\n",
       "  <thead>\n",
       "    <tr style=\"text-align: right;\">\n",
       "      <th></th>\n",
       "      <th>count</th>\n",
       "    </tr>\n",
       "  </thead>\n",
       "  <tbody>\n",
       "    <tr>\n",
       "      <th>0</th>\n",
       "      <td>1496</td>\n",
       "    </tr>\n",
       "  </tbody>\n",
       "</table>\n",
       "</div>"
      ],
      "text/plain": [
       "   count\n",
       "0   1496"
      ]
     },
     "execution_count": 68,
     "metadata": {},
     "output_type": "execute_result"
    }
   ],
   "source": [
    "pd.read_sql(\"SELECT COUNT(*) FROM games_metadata\", engine)\n"
   ]
  },
  {
   "cell_type": "code",
   "execution_count": 69,
   "id": "181f9f16-1d2c-4088-aee8-f440c73aedb1",
   "metadata": {},
   "outputs": [],
   "source": [
    "# Normalize text in categorical columns\n",
    "for col in ['Genres', 'Team']:\n",
    "    games_df[col] = games_df[col].str.lower().str.strip()\n",
    "\n",
    "# Split multi-genre when comma-separated and explode as separate rows\n",
    "games_df = games_df.assign(Genre=games_df['Genres'].str.split(',')).explode('Genre')\n",
    "games_df['Genre'] = games_df['Genre'].str.strip()\n"
   ]
  },
  {
   "cell_type": "code",
   "execution_count": 70,
   "id": "b70e395f-da9c-4dfe-9d02-7fdda055dc08",
   "metadata": {},
   "outputs": [],
   "source": [
    "import numpy as np\n",
    "\n",
    "# Compute z‑scores for Plays column\n",
    "plays_mean = games_df['Plays'].mean()\n",
    "plays_std = games_df['Plays'].std()\n",
    "games_df['z_play'] = ((games_df['Plays'] - plays_mean) / plays_std).abs()\n",
    "\n",
    "# Keep only values with |z| ≤ 3\n",
    "games_df = games_df[games_df['z_play'] <= 3].drop(columns=['z_play'])\n"
   ]
  },
  {
   "cell_type": "code",
   "execution_count": 71,
   "id": "6932d0ed-03d6-4640-898a-f02aee21e3c1",
   "metadata": {},
   "outputs": [],
   "source": [
    "# Normalize platform and publisher text values\n",
    "for col in ['Platform', 'Publisher']:\n",
    "    sales_df[col] = sales_df[col].str.lower().str.strip()\n"
   ]
  },
  {
   "cell_type": "code",
   "execution_count": 72,
   "id": "3a02f405-6d19-4c74-b424-739426cc3daf",
   "metadata": {},
   "outputs": [],
   "source": [
    "for col in ['NA_Sales', 'EU_Sales', 'JP_Sales', 'Other_Sales', 'Global_Sales']:\n",
    "    sales_df[col] = (sales_df[col] + 0.001) ** 0.5\n"
   ]
  },
  {
   "cell_type": "code",
   "execution_count": 73,
   "id": "05123a23-4712-4af7-82e1-5d167b941a91",
   "metadata": {},
   "outputs": [
    {
     "data": {
      "image/png": "[encoded data removed]",
      "text/plain": [
       "<Figure size 1000x600 with 1 Axes>"
      ]
     },
     "metadata": {},
     "output_type": "display_data"
    }
   ],
   "source": [
    "top_rated_games = games_df[['Title', 'Rating']].sort_values(by='Rating', ascending=False).head(10)\n",
    "\n",
    "import seaborn as sns\n",
    "import matplotlib.pyplot as plt\n",
    "\n",
    "plt.figure(figsize=(10,6))\n",
    "sns.barplot(data=top_rated_games, x='Rating', y='Title', color='purple')\n",
    "plt.title('Top 10 Rated Games')\n",
    "plt.xlabel('Rating')\n",
    "plt.ylabel('Game Title')\n",
    "plt.tight_layout()\n",
    "plt.show()\n"
   ]
  },
  {
   "cell_type": "code",
   "execution_count": 80,
   "id": "3628f3d7-0842-40fa-8ea5-a8d973fca56d",
   "metadata": {
    "scrolled": true
   },
   "outputs": [
    {
     "data": {
      "image/png": "[encoded data removed]",
      "text/plain": [
       "<Figure size 1000x600 with 1 Axes>"
      ]
     },
     "metadata": {},
     "output_type": "display_data"
    }
   ],
   "source": [
    "from collections import Counter\n",
    "\n",
    "# Some games have multiple genres separated by commas\n",
    "genre_series = games_df['Genres'].dropna().str.split(', ')\n",
    "genre_list = [genre for sublist in genre_series for genre in sublist]\n",
    "genre_counts = Counter(genre_list)\n",
    "\n",
    "# Convert to DataFrame\n",
    "genre_df = pd.DataFrame(genre_counts.items(), columns=['Genre', 'Count']).sort_values(by='Count', ascending=False)\n",
    "\n",
    "plt.figure(figsize=(10,6))\n",
    "sns.barplot(data=genre_df.head(10), x='Count', y='Genre', color='orange')\n",
    "plt.title('Top 10 Most Common Genres')\n",
    "plt.xlabel('Number of Games')\n",
    "plt.ylabel('Genre')\n",
    "plt.tight_layout()\n",
    "plt.show()\n"
   ]
  },
  {
   "cell_type": "code",
   "execution_count": null,
   "id": "13144f8a-2010-40e8-88c9-8c36f14ce2b2",
   "metadata": {},
   "outputs": [],
   "source": []
  }
 ],
 "metadata": {
  "kernelspec": {
   "display_name": "Python [conda env:base] *",
   "language": "python",
   "name": "conda-base-py"
  },
  "language_info": {
   "codemirror_mode": {
    "name": "ipython",
    "version": 3
   },
   "file_extension": ".py",
   "mimetype": "text/x-python",
   "name": "python",
   "nbconvert_exporter": "python",
   "pygments_lexer": "ipython3",
   "version": "3.12.7"
  }
 },
 "nbformat": 4,
 "nbformat_minor": 5
}
